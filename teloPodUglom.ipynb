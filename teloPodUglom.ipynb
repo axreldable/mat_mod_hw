{
 "cells": [
  {
   "cell_type": "markdown",
   "metadata": {},
   "source": [
    "## Лабораторная №1 \"Тело, брошенное под углом к горизонту\""
   ]
  },
  {
   "cell_type": "markdown",
   "metadata": {},
   "source": [
    "<img src=\"telo.jpg\">"
   ]
  },
  {
   "cell_type": "markdown",
   "metadata": {},
   "source": [
    "Угол полета: $$ \\alpha = 45^0 $$"
   ]
  },
  {
   "cell_type": "code",
   "execution_count": 1,
   "metadata": {},
   "outputs": [],
   "source": [
    "alfa = 45 * 3.14 / 180"
   ]
  },
  {
   "cell_type": "markdown",
   "metadata": {},
   "source": [
    "Начальная скорость полета: $$ V = 20 м/с $$"
   ]
  },
  {
   "cell_type": "code",
   "execution_count": 2,
   "metadata": {},
   "outputs": [],
   "source": [
    "v = 20"
   ]
  },
  {
   "cell_type": "markdown",
   "metadata": {},
   "source": [
    "Проекции на оси (начальная скорость):  \n",
    "$$ V_{ox} = V * cos(\\alpha) $$  \n",
    "$$ V_{oy} = V * sin(\\alpha) $$ "
   ]
  },
  {
   "cell_type": "code",
   "execution_count": 3,
   "metadata": {},
   "outputs": [],
   "source": [
    "from math import *\n",
    "vox = v * cos(alfa)\n",
    "voy = v * sin(alfa)"
   ]
  },
  {
   "cell_type": "markdown",
   "metadata": {},
   "source": [
    "Гравитационная постоянная: $$ g = 9.81 $$"
   ]
  },
  {
   "cell_type": "code",
   "execution_count": 4,
   "metadata": {},
   "outputs": [],
   "source": [
    "g = 9.81"
   ]
  },
  {
   "cell_type": "markdown",
   "metadata": {},
   "source": [
    "## Случай 1: Сопротивление воздуха отсутствует $k = 0$"
   ]
  },
  {
   "cell_type": "markdown",
   "metadata": {},
   "source": [
    "### Аналитеческое решение"
   ]
  },
  {
   "cell_type": "markdown",
   "metadata": {},
   "source": [
    "Дальность полета: $$ L = 2 * \\frac{V_{ox} * V_{oy}}{g} $$  \n",
    "Время полета: $$ t = \\frac{(L - x_o)}{V_{ox}} $$"
   ]
  },
  {
   "cell_type": "code",
   "execution_count": 5,
   "metadata": {},
   "outputs": [],
   "source": [
    "L = 2 * vox * voy / g\n",
    "t = (L - 0) / vox"
   ]
  },
  {
   "cell_type": "markdown",
   "metadata": {},
   "source": [
    "При расчетах шаг по времени возьмем: $$ \\Delta t = 0.1 $$"
   ]
  },
  {
   "cell_type": "code",
   "execution_count": 6,
   "metadata": {},
   "outputs": [],
   "source": [
    "deltaT = 0.01"
   ]
  },
  {
   "cell_type": "markdown",
   "metadata": {},
   "source": [
    "Траектория полета: $$ y(x) = -\\frac{g}{2V_{ox}^2}x^2 + \\frac{V_{oy}}{V_{ox}}x $$"
   ]
  },
  {
   "cell_type": "code",
   "execution_count": 7,
   "metadata": {},
   "outputs": [],
   "source": [
    "import numpy as np\n",
    "x_an = np.arange(0, L, deltaT)"
   ]
  },
  {
   "cell_type": "code",
   "execution_count": 8,
   "metadata": {},
   "outputs": [
    {
     "data": {
      "text/plain": [
       "<matplotlib.figure.Figure at 0x23b8a848da0>"
      ]
     },
     "metadata": {},
     "output_type": "display_data"
    }
   ],
   "source": [
    "import matplotlib.pyplot as plt\n",
    "plt.plot(x_an, ((-g / (2 * (vox ** 2))) * (x_an ** 2)) + ((voy / vox) * x_an))\n",
    "plt.title(\"Аналитическое решение\")\n",
    "plt.show()"
   ]
  },
  {
   "cell_type": "markdown",
   "metadata": {},
   "source": [
    "### Численное решение"
   ]
  },
  {
   "cell_type": "markdown",
   "metadata": {},
   "source": [
    "Дифференциальные условия:  \n",
    "$$ \\frac{\\mathrm{d}x}{\\mathrm{d}t} = V_x $$   \n",
    "$$ \\frac{\\mathrm{d}y}{\\mathrm{d}t} = V_y $$   \n",
    "$$ \\frac{\\mathrm{d}V_x}{\\mathrm{d}t} = 0 $$  \n",
    "$$ \\frac{\\mathrm{d}V_y}{\\mathrm{d}t} = -g $$"
   ]
  },
  {
   "cell_type": "markdown",
   "metadata": {},
   "source": [
    "#### Метод Эйлера"
   ]
  },
  {
   "cell_type": "markdown",
   "metadata": {},
   "source": [
    "$$ V_x^{j+1} = V_x^j $$  \n",
    "$$ V_y^{j+1} = V_y^j - g \\Delta t $$  \n",
    "$$ x^{j+1} = x^j + V_x^j\\Delta t $$  \n",
    "$$ y^{j+1} = y^j + V_y^j\\Delta t $$"
   ]
  },
  {
   "cell_type": "code",
   "execution_count": 9,
   "metadata": {},
   "outputs": [],
   "source": [
    "# Задаем начальные значения массивов:\n",
    "x = np.array([0])\n",
    "y = np.array([0])\n",
    "\n",
    "# напишим функцию для инициализации массивов координат:\n",
    "def initEulerDistance(x, y):\n",
    "    xi = 0\n",
    "    yi = 0\n",
    "    vxi = vox\n",
    "    vyi = voy\n",
    "    i = 0\n",
    "    while (yi >= 0):\n",
    "        i = i + 1\n",
    "        vxi = vxi + 0\n",
    "        vyi = vyi - g * deltaT\n",
    "        xi = xi + vxi * deltaT\n",
    "        yi = yi + vyi * deltaT\n",
    "        x = np.append(x, xi)\n",
    "        y = np.append(y, yi)\n",
    "    return (x, y);\n",
    "\n",
    "# Инициализируем массивы значениями:\n",
    "x, y = initEulerDistance(x, y)\n",
    "\n",
    "# Распечатаем их:\n",
    "# print(x)\n",
    "# print(y)"
   ]
  },
  {
   "cell_type": "markdown",
   "metadata": {},
   "source": [
    "Построим график траектории движения тела:"
   ]
  },
  {
   "cell_type": "code",
   "execution_count": 10,
   "metadata": {},
   "outputs": [
    {
     "data": {
      "image/png": "[encoded data removed]",
      "text/plain": [
       "<matplotlib.figure.Figure at 0x23b8b7c87b8>"
      ]
     },
     "metadata": {},
     "output_type": "display_data"
    }
   ],
   "source": [
    "plt.plot(x_an, ((-g / (2 * (vox ** 2))) * (x_an ** 2)) + ((voy / vox) * x_an), label='analitic')\n",
    "plt.plot(x, y, label='Euler')\n",
    "plt.title(\"Аналитическое решение и Эйлер\")\n",
    "plt.legend()\n",
    "plt.show()"
   ]
  },
  {
   "cell_type": "markdown",
   "metadata": {},
   "source": [
    "#### Двушаговый метод"
   ]
  },
  {
   "cell_type": "markdown",
   "metadata": {},
   "source": [
    "$$ V^{j+2} = V^j - 2\\Delta tg $$  \n",
    "$$ x^{j+1} = x^{j-1} + 2\\Delta tV^j $$ "
   ]
  },
  {
   "cell_type": "code",
   "execution_count": 11,
   "metadata": {},
   "outputs": [],
   "source": [
    "# Задаем начальные значения массивов:\n",
    "x1 = np.array([])\n",
    "y1 = np.array([])\n",
    "\n",
    "def getNext(x_pred, v_):\n",
    "    return x_pred + 2 * deltaT * v_\n",
    "\n",
    "def getNextVx(v_pred):\n",
    "    return v_pred\n",
    "\n",
    "def getNextVy(v_pred):\n",
    "    return v_pred - 2 * deltaT * g\n",
    "\n",
    "vx_pred = vox # Vxn-1\n",
    "vy_pred = voy\n",
    "\n",
    "x_pred = 0 # xn-1\n",
    "y_pred = 0\n",
    "x_cur = x_pred + vx_pred * deltaT # xn\n",
    "y_cur = y_pred + vy_pred * deltaT\n",
    "\n",
    "while (x_pred >= 0 and y_pred >= 0):\n",
    "    x1 = np.append(x1, x_pred)\n",
    "    y1 = np.append(y1, y_pred)\n",
    "    \n",
    "    vx_next = getNextVx(vx_pred)\n",
    "    vy_next = getNextVy(vy_pred)\n",
    "    \n",
    "    vx_cur = (vx_next + vx_pred) / 2 # (V2 + V0) / 2 = V1\n",
    "    vy_cur = (vy_next + vy_pred) / 2\n",
    "    \n",
    "    x_next = getNext(x_pred, vx_cur)\n",
    "    y_next = getNext(y_pred, vy_cur)\n",
    "    \n",
    "    vx_pred = vx_cur\n",
    "    vy_pred = vy_cur\n",
    "    \n",
    "    x_pred = x_cur\n",
    "    y_pred = y_cur\n",
    "    \n",
    "    x_cur = x_next\n",
    "    y_cur = y_next    \n",
    "    \n",
    "\n",
    "# Распечатаем их:\n",
    "# print(x1)\n",
    "# print(y1)"
   ]
  },
  {
   "cell_type": "code",
   "execution_count": 12,
   "metadata": {},
   "outputs": [
    {
     "data": {
      "image/png": "[encoded data removed]",
      "text/plain": [
       "<matplotlib.figure.Figure at 0x23b8b7c8438>"
      ]
     },
     "metadata": {},
     "output_type": "display_data"
    }
   ],
   "source": [
    "plt.plot(x_an, ((-g / (2 * (vox ** 2))) * (x_an ** 2)) + ((voy / vox) * x_an), label='analitic')\n",
    "plt.plot(x, y, label='Euler')\n",
    "plt.plot(x1, y1, label='Double step')\n",
    "plt.title(\"Аналитическое решение,  Эйлер и двойной шаг\")\n",
    "plt.legend()\n",
    "plt.show()"
   ]
  },
  {
   "cell_type": "markdown",
   "metadata": {},
   "source": [
    "### Случай 2: Есть сопротивление воздуха $ K = 1 $"
   ]
  },
  {
   "cell_type": "code",
   "execution_count": 13,
   "metadata": {},
   "outputs": [],
   "source": [
    "k = 1"
   ]
  },
  {
   "cell_type": "markdown",
   "metadata": {},
   "source": [
    "Массу тела примем: $$ m = 10 $$"
   ]
  },
  {
   "cell_type": "code",
   "execution_count": 14,
   "metadata": {},
   "outputs": [],
   "source": [
    "m = 10"
   ]
  },
  {
   "cell_type": "markdown",
   "metadata": {},
   "source": [
    "Дифференциальные условия:  \n",
    "$$ \\frac{\\mathrm{d}V_x}{\\mathrm{d}t} = -\\frac{k}{m}V_x $$  \n",
    "$$ \\frac{\\mathrm{d}V_y}{\\mathrm{d}t} = -g - \\frac{k}{m}V_y $$  \n",
    "$$ \\frac{\\mathrm{d}x}{\\mathrm{d}t} = V_x $$  \n",
    "$$ \\frac{\\mathrm{d}y}{\\mathrm{d}t} = V_y $$"
   ]
  },
  {
   "cell_type": "markdown",
   "metadata": {},
   "source": [
    "#### Метод Эйлера"
   ]
  },
  {
   "cell_type": "markdown",
   "metadata": {},
   "source": [
    "$$ V_x^{j+1} = V_x^j - \\frac{k}{m}V_x^j \\Delta t $$  \n",
    "$$ V_y^{j+1} = V_y^j - (g + \\frac{k}{m}V_y^j)\\Delta t $$  \n",
    "$$ x^{j+1} = x^j + V_x^j\\Delta t $$  \n",
    "$$ y^{j+1} = y^j + V_y^j\\Delta t $$"
   ]
  },
  {
   "cell_type": "code",
   "execution_count": 15,
   "metadata": {},
   "outputs": [],
   "source": [
    "# Задаем начальные значения массивов:\n",
    "x2 = np.array([0])\n",
    "y2 = np.array([0])\n",
    "\n",
    "# напишим функцию для инициализации массивов координат:\n",
    "def initEulerDistance(x, y):\n",
    "    xi = 0\n",
    "    yi = 0\n",
    "    vxi = vox\n",
    "    vyi = voy\n",
    "    i = 0\n",
    "    while (yi >= 0):\n",
    "        i = i + 1\n",
    "        vxi = vxi - (k / m) * vxi * deltaT\n",
    "        vyi = vyi - (g + (k / m) * vyi) * deltaT\n",
    "        xi = xi + vxi * deltaT\n",
    "        yi = yi + vyi * deltaT\n",
    "        x = np.append(x, xi)\n",
    "        y = np.append(y, yi)\n",
    "    return (x, y);\n",
    "\n",
    "# Инициализируем массивы значениями:\n",
    "x2, y2 = initEulerDistance(x2, y2)\n",
    "\n",
    "# Распечатаем их:\n",
    "# print(x2)\n",
    "# print(y2)"
   ]
  },
  {
   "cell_type": "code",
   "execution_count": 16,
   "metadata": {},
   "outputs": [
    {
     "data": {
      "image/png": "[encoded data removed]",
      "text/plain": [
       "<matplotlib.figure.Figure at 0x23b8b8e9cc0>"
      ]
     },
     "metadata": {},
     "output_type": "display_data"
    }
   ],
   "source": [
    "plt.plot(x, y, label='Euler')\n",
    "plt.plot(x1, y1, label='Double step')\n",
    "plt.plot(x2, y2, label='Euler with force')\n",
    "plt.title(\"Эйлер и двойной шаг без сопротивления и Эйлер с сопротивлением\")\n",
    "plt.legend()\n",
    "plt.show()"
   ]
  },
  {
   "cell_type": "markdown",
   "metadata": {},
   "source": [
    "#### Двушаговый метод"
   ]
  },
  {
   "cell_type": "markdown",
   "metadata": {},
   "source": [
    "$$ V_x^{j+2} = (1 - 2\\Delta t\\frac{k}{m})V_x^j $$  \n",
    "$$ V_y^{j+2} = (1 - 2\\Delta t\\frac{k}{m})V_y^j - 2\\Delta tg $$  \n",
    "$$ x^{j+1} = x^{j-1} + 2\\Delta tV^j $$ "
   ]
  },
  {
   "cell_type": "code",
   "execution_count": 17,
   "metadata": {},
   "outputs": [],
   "source": [
    "# Задаем начальные значения массивов:\n",
    "x3 = np.array([])\n",
    "y3 = np.array([])\n",
    "\n",
    "def getNextVxNew(v_pred):\n",
    "    return v_pred * (1 - 2 * deltaT * (k / m))\n",
    "\n",
    "def getNextVyNew(v_pred):\n",
    "    return v_pred * (1 - 2 * deltaT * k / m) - 2 * deltaT * g\n",
    "\n",
    "vx_pred = vox\n",
    "vy_pred = voy\n",
    "\n",
    "x_pred = 0\n",
    "y_pred = 0\n",
    "x_cur = x_pred + vx_pred * deltaT\n",
    "y_cur = y_pred + vy_pred * deltaT\n",
    "\n",
    "while (x_pred >= 0 and y_pred >= 0):\n",
    "    x3 = np.append(x3, x_pred)\n",
    "    y3 = np.append(y3, y_pred)\n",
    "    \n",
    "    vx_next = getNextVxNew(vx_pred)\n",
    "    vy_next = getNextVyNew(vy_pred)\n",
    "    \n",
    "    vx_cur = (vx_next + vx_pred) / 2\n",
    "    vy_cur = (vy_next + vy_pred) / 2\n",
    "    \n",
    "    x_next = getNext(x_pred, vx_cur)\n",
    "    y_next = getNext(y_pred, vy_cur)\n",
    "    \n",
    "    vx_pred = vx_cur\n",
    "    vy_pred = vy_cur\n",
    "    \n",
    "    x_pred = x_cur\n",
    "    y_pred = y_cur\n",
    "    \n",
    "    x_cur = x_next\n",
    "    y_cur = y_next    \n",
    "    \n",
    "\n",
    "# Распечатаем их:\n",
    "# print(x3)\n",
    "# print(y3)"
   ]
  },
  {
   "cell_type": "code",
   "execution_count": 18,
   "metadata": {},
   "outputs": [
    {
     "data": {
      "image/png": "[encoded data removed]",
      "text/plain": [
       "<matplotlib.figure.Figure at 0x23b8b977278>"
      ]
     },
     "metadata": {},
     "output_type": "display_data"
    }
   ],
   "source": [
    "plt.plot(x, y, label='Euler')\n",
    "plt.plot(x1, y1, label='Double step')\n",
    "plt.plot(x2, y2, label='Euler with force')\n",
    "plt.plot(x3, y3, label='Double step with force')\n",
    "plt.title(\"Эйлер и двойной шаг без сопротивления, Эйлер и двойной шаг с сопротивлением\")\n",
    "plt.legend()\n",
    "plt.show()"
   ]
  }
 ],
 "metadata": {
  "kernelspec": {
   "display_name": "Python 3",
   "language": "python",
   "name": "python3"
  },
  "language_info": {
   "codemirror_mode": {
    "name": "ipython",
    "version": 3
   },
   "file_extension": ".py",
   "mimetype": "text/x-python",
   "name": "python",
   "nbconvert_exporter": "python",
   "pygments_lexer": "ipython3",
   "version": "3.6.4"
  }
 },
 "nbformat": 4,
 "nbformat_minor": 2
}
