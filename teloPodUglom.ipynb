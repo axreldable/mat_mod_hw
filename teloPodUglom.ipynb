{
 "cells": [
  {
   "cell_type": "markdown",
   "metadata": {},
   "source": [
    "## Лабораторная №1 \"Тело, брошенное под углом к горизонту\""
   ]
  },
  {
   "cell_type": "markdown",
   "metadata": {},
   "source": [
    "<img src=\"telo.jpg\">"
   ]
  },
  {
   "cell_type": "markdown",
   "metadata": {},
   "source": [
    "Угол полета: $$ \\alpha = 45^0 $$"
   ]
  },
  {
   "cell_type": "code",
   "execution_count": 1,
   "metadata": {},
   "outputs": [],
   "source": [
    "alfa = 45 * 3.14 / 180"
   ]
  },
  {
   "cell_type": "markdown",
   "metadata": {},
   "source": [
    "Начальная скорость полета: $$ V = 20 м/с $$"
   ]
  },
  {
   "cell_type": "code",
   "execution_count": 2,
   "metadata": {},
   "outputs": [],
   "source": [
    "v = 20"
   ]
  },
  {
   "cell_type": "markdown",
   "metadata": {},
   "source": [
    "Проекции на оси (начальная скорость):  \n",
    "$$ V_{ox} = V * cos(\\alpha) $$  \n",
    "$$ V_{oy} = V * sin(\\alpha) $$ "
   ]
  },
  {
   "cell_type": "code",
   "execution_count": 3,
   "metadata": {},
   "outputs": [],
   "source": [
    "from math import *\n",
    "vox = v * cos(alfa)\n",
    "voy = v * sin(alfa)"
   ]
  },
  {
   "cell_type": "markdown",
   "metadata": {},
   "source": [
    "Гравитационная постоянная: $$ g = 9.81 $$"
   ]
  },
  {
   "cell_type": "code",
   "execution_count": 4,
   "metadata": {},
   "outputs": [],
   "source": [
    "g = 9.81"
   ]
  },
  {
   "cell_type": "markdown",
   "metadata": {},
   "source": [
    "### Случай 1: Сопротивление воздуха отсутствует $k = 0$"
   ]
  },
  {
   "cell_type": "markdown",
   "metadata": {},
   "source": [
    "Дальность полета: $$ L = 2 * \\frac{V_{ox} * V_{oy}}{g} $$  \n",
    "Время полета: $$ t = \\frac{(L - x_o)}{V_{ox}} $$"
   ]
  },
  {
   "cell_type": "code",
   "execution_count": 5,
   "metadata": {},
   "outputs": [],
   "source": [
    "L = 2 * vox * voy / g\n",
    "t = (L - 0) / vox"
   ]
  },
  {
   "cell_type": "markdown",
   "metadata": {},
   "source": [
    "Количество итераций возьмем: $$ n = 10 $$"
   ]
  },
  {
   "cell_type": "code",
   "execution_count": 6,
   "metadata": {},
   "outputs": [],
   "source": [
    "steps = 10"
   ]
  },
  {
   "cell_type": "markdown",
   "metadata": {},
   "source": [
    "Шаг по времени составит: $$ \\Delta t = \\frac{t}{n} $$"
   ]
  },
  {
   "cell_type": "code",
   "execution_count": 7,
   "metadata": {},
   "outputs": [],
   "source": [
    "deltaT = t / steps"
   ]
  },
  {
   "cell_type": "markdown",
   "metadata": {},
   "source": [
    "Условия для скорости:  \n",
    "$$ \\frac{\\mathrm{d}V_x}{\\mathrm{d}t} = 0 $$  \n",
    "$$ \\frac{\\mathrm{d}V_y}{\\mathrm{d}t} = -g $$"
   ]
  },
  {
   "cell_type": "markdown",
   "metadata": {},
   "source": [
    "Численно найдем:  \n",
    "$$ V_x^{j+1} = V_x^j $$  \n",
    "$$ V_y^{j+1} = V_y^j - g \\Delta t $$"
   ]
  },
  {
   "cell_type": "code",
   "execution_count": 8,
   "metadata": {},
   "outputs": [],
   "source": [
    "import numpy as np\n",
    "# Столько точек будет на графике:\n",
    "length = steps + 2\n",
    "\n",
    "# Инициализируем массив нулями:\n",
    "vx = np.zeros((length))\n",
    "vy = np.zeros((length))\n",
    "\n",
    "# Присваиваем переменным начальные значения:\n",
    "vx[0] = vox\n",
    "vy[0] = voy\n",
    "\n",
    "# напишим функцию для инициализации массива скоростей:\n",
    "def initSpeedArray(array, addNum):\n",
    "    for i in range(0, array.size - 1):\n",
    "      array[i+1] = array[i] + addNum; \n",
    "\n",
    "# Инициализируем массивы значениями:\n",
    "initSpeedArray(vx, 0)\n",
    "initSpeedArray(vy, - g * deltaT)\n",
    "\n",
    "# Распечатаем их:\n",
    "# print(vx)\n",
    "# print(vy)"
   ]
  },
  {
   "cell_type": "markdown",
   "metadata": {},
   "source": [
    "Условия для расстояния:  \n",
    "$$ \\frac{\\mathrm{d}x}{\\mathrm{d}t} = V_x $$  \n",
    "$$ \\frac{\\mathrm{d}y}{\\mathrm{d}t} = V_y $$"
   ]
  },
  {
   "cell_type": "markdown",
   "metadata": {},
   "source": [
    "Численно найдем:  \n",
    "$$ x^{j+1} = x^j + V_x^j\\Delta t $$  \n",
    "$$ y^{j+1} = y^j - V_y^j\\Delta t $$"
   ]
  },
  {
   "cell_type": "code",
   "execution_count": null,
   "metadata": {},
   "outputs": [],
   "source": []
  },
  {
   "cell_type": "code",
   "execution_count": 18,
   "metadata": {},
   "outputs": [],
   "source": [
    "f = 150\n"
   ]
  },
  {
   "cell_type": "code",
   "execution_count": 9,
   "metadata": {},
   "outputs": [],
   "source": [
    "# Инициализируем массив нулями:\n",
    "x = np.zeros((length))\n",
    "y = np.zeros((length))\n",
    "\n",
    "# Начальные значения нули\n",
    "\n",
    "# напишим функцию для инициализации массива расстояний:\n",
    "def initDistanceArray(d_array, v_array, delta):\n",
    "    for i in range(0, d_array.size - 1):\n",
    "      d_array[i+1] = d_array[i] + v_array[i] * delta; \n",
    "\n",
    "# Инициализируем массивы значениями:\n",
    "initDistanceArray(x, vx, deltaT)\n",
    "initDistanceArray(y, vy, deltaT)\n",
    "\n",
    "# Распечатаем их:\n",
    "# print(x)\n",
    "# print(y)"
   ]
  },
  {
   "cell_type": "markdown",
   "metadata": {},
   "source": [
    "Построим график траектории движения тела:"
   ]
  },
  {
   "cell_type": "code",
   "execution_count": 17,
   "metadata": {},
   "outputs": [
    {
     "data": {
      "image/png": "[encoded data removed]",
      "text/plain": [
       "<matplotlib.figure.Figure at 0x159e5b5b0b8>"
      ]
     },
     "metadata": {},
     "output_type": "display_data"
    }
   ],
   "source": [
    "import matplotlib.pyplot as plt\n",
    "plt.plot(x, y)\n",
    "plt.title(\"Траектория движения тела\")\n",
    "# plt.legend(('k = 1'))\n",
    "plt.show()"
   ]
  },
  {
   "cell_type": "markdown",
   "metadata": {},
   "source": [
    "### Случай 2: Сопротивление воздуха отсутствует $ K = 1 $"
   ]
  },
  {
   "cell_type": "code",
   "execution_count": 11,
   "metadata": {},
   "outputs": [],
   "source": [
    "k = 1"
   ]
  },
  {
   "cell_type": "markdown",
   "metadata": {},
   "source": [
    "Массу тела примем: $$ m = 10 $$"
   ]
  },
  {
   "cell_type": "code",
   "execution_count": 12,
   "metadata": {},
   "outputs": [],
   "source": [
    "m = 10"
   ]
  },
  {
   "cell_type": "markdown",
   "metadata": {},
   "source": [
    "В этот раз зададим шаг по времени: $$ \\Delta t = 0.01 $$"
   ]
  },
  {
   "cell_type": "code",
   "execution_count": 13,
   "metadata": {},
   "outputs": [],
   "source": [
    "deltaT = 0.01"
   ]
  },
  {
   "cell_type": "markdown",
   "metadata": {},
   "source": [
    "Условия для скорости:  \n",
    "$$ \\frac{\\mathrm{d}V_x}{\\mathrm{d}t} = \\frac{k}{m}V_x $$  \n",
    "$$ \\frac{\\mathrm{d}V_y}{\\mathrm{d}t} = -g - \\frac{k}{m}V_y $$"
   ]
  },
  {
   "cell_type": "markdown",
   "metadata": {},
   "source": [
    "Численно найдем:  \n",
    "$$ V_x^{j+1} = V_x^j - \\frac{k}{m}V_x^j \\Delta t $$  \n",
    "$$ V_y^{j+1} = V_y^j - (g + \\frac{k}{m}V_y^j)\\Delta t $$"
   ]
  },
  {
   "cell_type": "code",
   "execution_count": 14,
   "metadata": {},
   "outputs": [],
   "source": [
    "steps = 275\n",
    "# Столько точек будет на графике:\n",
    "length = steps + 2\n",
    "\n",
    "# Инициализируем массив нулями:\n",
    "vx = np.zeros((length))\n",
    "vy = np.zeros((length))\n",
    "\n",
    "# Присваиваем переменным начальные значения:\n",
    "vx[0] = vox\n",
    "vy[0] = voy \n",
    "\n",
    "# Инициализируем массивы значениями:\n",
    "initDistanceArray(vx, vx, - k * deltaT / m) # это скорость!\n",
    "\n",
    "def initSpeedArray_2(d_array, v_array, c1, c2, c3):\n",
    "    for i in range(0, d_array.size - 1):\n",
    "      d_array[i+1] = d_array[i] - (c1 + c2 * v_array[i]) * c3;\n",
    "\n",
    "initSpeedArray_2(vy, vy, g, k / m, deltaT)\n",
    "\n",
    "# Распечатаем их:\n",
    "# print(vx)\n",
    "# print(vy)"
   ]
  },
  {
   "cell_type": "markdown",
   "metadata": {},
   "source": [
    "Условия для расстояния:  \n",
    "$$ \\frac{\\mathrm{d}x}{\\mathrm{d}t} = V_x $$  \n",
    "$$ \\frac{\\mathrm{d}y}{\\mathrm{d}t} = V_y $$"
   ]
  },
  {
   "cell_type": "markdown",
   "metadata": {},
   "source": [
    "Численно найдем:  \n",
    "$$ x^{j+1} = x^j + V_x^j \\Delta t $$  \n",
    "$$ y^{j+1} = y^j + V_y^j \\Delta t $$"
   ]
  },
  {
   "cell_type": "code",
   "execution_count": 15,
   "metadata": {},
   "outputs": [],
   "source": [
    "# Инициализируем массив нулями:\n",
    "x1 = np.zeros((length))\n",
    "y1 = np.zeros((length))\n",
    "\n",
    "# Начальные значения нули\n",
    "\n",
    "# напишим функцию для инициализации массива расстояний:\n",
    "def initDistanceArray(d_array, v_array, delta):\n",
    "    for i in range(0, d_array.size - 1):\n",
    "      d_array[i+1] = d_array[i] + v_array[i] * delta; \n",
    "\n",
    "# Инициализируем массивы значениями:\n",
    "initDistanceArray(x1, vx, deltaT)\n",
    "initDistanceArray(y1, vy, deltaT)\n",
    "\n",
    "# Распечатаем их:\n",
    "# print(x1)\n",
    "# print(y1)"
   ]
  },
  {
   "cell_type": "code",
   "execution_count": 16,
   "metadata": {},
   "outputs": [
    {
     "data": {
      "image/png": "[encoded data removed]",
      "text/plain": [
       "<matplotlib.figure.Figure at 0x159e5b4c048>"
      ]
     },
     "metadata": {},
     "output_type": "display_data"
    }
   ],
   "source": [
    "plt.plot(x, y, x1, y1)\n",
    "plt.title(\"Траектория движения тела\")\n",
    "plt.show()"
   ]
  }
 ],
 "metadata": {
  "kernelspec": {
   "display_name": "Python 3",
   "language": "python",
   "name": "python3"
  },
  "language_info": {
   "codemirror_mode": {
    "name": "ipython",
    "version": 3
   },
   "file_extension": ".py",
   "mimetype": "text/x-python",
   "name": "python",
   "nbconvert_exporter": "python",
   "pygments_lexer": "ipython3",
   "version": "3.6.4"
  }
 },
 "nbformat": 4,
 "nbformat_minor": 2
}
